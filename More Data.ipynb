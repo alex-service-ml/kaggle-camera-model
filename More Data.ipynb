{
 "cells": [
  {
   "cell_type": "code",
   "execution_count": 3,
   "metadata": {},
   "outputs": [],
   "source": [
    "import os\n",
    "import cv2\n",
    "import matplotlib.pyplot as plt\n",
    "import numpy as np\n",
    "from enum import Enum\n",
    "from shutil import copyfile\n",
    "from scipy.misc import imresize\n",
    "from skimage.exposure import adjust_gamma\n",
    "%matplotlib inline"
   ]
  },
  {
   "cell_type": "code",
   "execution_count": 4,
   "metadata": {},
   "outputs": [],
   "source": [
    "# Convenient for specifying directories\n",
    "class CameraLabel(Enum):\n",
    "    HTC_1_M7 = 'htc_m7'\n",
    "    LG_Nexus_5x = 'nexus_5x'\n",
    "    Motorola_Droid_Maxx = 'moto_maxx'\n",
    "    Motorola_Nexus_6 = 'nexus_6'\n",
    "    Motorola_X = 'moto_x'\n",
    "    Samsung_Galaxy_Note3 = 'samsung_note3'\n",
    "    Samsung_Galaxy_S4 = 'samsung_s4'\n",
    "    Sony_NEX_7 = 'sony_nex7'\n",
    "    iPhone_4s = 'iphone_4s'\n",
    "    iPhone_6 = 'iphone_6'"
   ]
  },
  {
   "cell_type": "code",
   "execution_count": 8,
   "metadata": {},
   "outputs": [],
   "source": [
    "# Root of output directories\n",
    "target_dir = 'data-512-with-flickr'\n",
    "# Output directories for each manipulation\n",
    "output_dir = ['train_cropped',\n",
    "              'train_compressed_90',\n",
    "              'train_compressed_70',\n",
    "              'train_resize_5',\n",
    "              'train_resize_8',\n",
    "              'train_resize_15',\n",
    "              'train_resize_20',\n",
    "              'train_gamma_8',\n",
    "              'train_gamma_12', \n",
    "              '../data/flickr-validation']\n",
    "\n",
    "# Source of images to be cropped & manipulated\n",
    "train_dir = 'data/train'\n",
    "flickr_train_dir = 'data/flickr_train'\n",
    "\n",
    "# Validation Dir\n",
    "validation_dir = 'data/flickr-validation'\n",
    "# Raw flickr images, including ones we don't want\n",
    "flickr_src = 'flickr_images'\n",
    "\n",
    "test_img = 'Motorola-X/(MotoX)100.jpg'"
   ]
  },
  {
   "cell_type": "markdown",
   "metadata": {},
   "source": [
    "## Create the Directory Structure\n",
    "Our raw data exists under `train_dir` and will exist under `flickr_train_dir` as well. As we load and manipulate them, we want the output directories to exist, so let's create those real quick, if they don't already exist"
   ]
  },
  {
   "cell_type": "code",
   "execution_count": 9,
   "metadata": {},
   "outputs": [
    {
     "name": "stdout",
     "output_type": "stream",
     "text": [
      "Creating camera dir:  data-512-with-flickr/../data/flickr-validation/HTC-1-M7\n",
      "Creating camera dir:  data-512-with-flickr/../data/flickr-validation/LG-Nexus-5x\n",
      "Creating camera dir:  data-512-with-flickr/../data/flickr-validation/Motorola-Droid-Maxx\n",
      "Creating camera dir:  data-512-with-flickr/../data/flickr-validation/Motorola-Nexus-6\n",
      "Creating camera dir:  data-512-with-flickr/../data/flickr-validation/Motorola-X\n",
      "Creating camera dir:  data-512-with-flickr/../data/flickr-validation/Samsung-Galaxy-Note3\n",
      "Creating camera dir:  data-512-with-flickr/../data/flickr-validation/Samsung-Galaxy-S4\n",
      "Creating camera dir:  data-512-with-flickr/../data/flickr-validation/Sony-NEX-7\n",
      "Creating camera dir:  data-512-with-flickr/../data/flickr-validation/iPhone-4s\n",
      "Creating camera dir:  data-512-with-flickr/../data/flickr-validation/iPhone-6\n"
     ]
    }
   ],
   "source": [
    "if not os.path.isdir(target_dir):\n",
    "    print('Root target directory does not exist. Creating: ', target_dir)\n",
    "    os.mkdir(target_dir)\n",
    "# Generate Directories for each of the manipulations (including simple cropping)\n",
    "for directory in output_dir:\n",
    "    target = os.path.join(target_dir, directory)\n",
    "    if not os.path.isdir(target):\n",
    "        print('Creating directory: ', target)\n",
    "        os.mkdir(target)\n",
    "    for label in CameraLabel:\n",
    "        camera_dir = os.path.join(target, label.name.replace('_', '-'))  # Substitution to match with existing data dir names\n",
    "        if not os.path.isdir(camera_dir):\n",
    "            print('Creating camera dir: ', camera_dir)\n",
    "            os.mkdir(camera_dir)"
   ]
  },
  {
   "cell_type": "markdown",
   "metadata": {},
   "source": [
    "## Get Good Images From Flicker Data\n",
    "We have a few thousand photos in the `flickr_src` directory, but only a subset of them match the requirements we have for our data (uncompressed, the right shape, etc). Lucky for us, the `flickr_src` directory has a file with paths for all of the files we want called `good_jpgs`. We'll simply read the file line by line, see if the file exists in `flickr_train_dir` and copy it over if not. \n",
    "\n",
    "A full copy should move **5377** files."
   ]
  },
  {
   "cell_type": "code",
   "execution_count": 4,
   "metadata": {},
   "outputs": [],
   "source": [
    "file_paths = np.loadtxt(os.path.join(flickr_src, 'good_jpgs'), dtype='str', delimiter=\"\\n\")"
   ]
  },
  {
   "cell_type": "code",
   "execution_count": 48,
   "metadata": {},
   "outputs": [
    {
     "name": "stdout",
     "output_type": "stream",
     "text": [
      "Copied 0 file(s)\n"
     ]
    }
   ],
   "source": [
    "files_copied = 0\n",
    "for file_path in file_paths:\n",
    "    camera, filename = file_path.split('/')[1:] # gives us something like: 'iphone_6', '2556...a_0.jpg'\n",
    "    camera_path = CameraLabel(camera).name.replace('_', '-')\n",
    "    source_file = os.path.join(flickr_src, camera_path, filename)\n",
    "    target_file = os.path.join(flickr_train_dir, camera_path, filename)\n",
    "    if not os.path.isfile(target_file):\n",
    "        files_copied += 1\n",
    "        copyfile(source_file, target_file)\n",
    "        \n",
    "print('Copied', files_copied, \"file(s)\")"
   ]
  },
  {
   "cell_type": "markdown",
   "metadata": {},
   "source": [
    "## Manipulation Time!\n",
    "The process I'll use is to load a raw image, apply the manipulation, and then center-crop it to be 512x512. Finally, I'll save the manipulated files to the directories defined in `output_dir`"
   ]
  },
  {
   "cell_type": "code",
   "execution_count": 5,
   "metadata": {},
   "outputs": [],
   "source": [
    "def crop(img, crop_dim=512):\n",
    "    edge = crop_dim // 2\n",
    "    height, width, _ = img.shape\n",
    "    center_height = height // 2\n",
    "    center_width = width // 2\n",
    "    top = center_height - edge\n",
    "    bottom = center_height + edge\n",
    "    left = center_width - edge\n",
    "    right = center_width + edge\n",
    "    return img[top:bottom,left:right]\n",
    "\n",
    "def write_image(path, image, flags=None, force=False, verbose=False):\n",
    "    if not os.path.isfile(path) or force:\n",
    "        if flags is None:\n",
    "            cv2.imwrite(path, image)\n",
    "        else:\n",
    "            cv2.imwrite(path, image, flags)\n",
    "    elif verbose:\n",
    "        print('File not written')"
   ]
  },
  {
   "cell_type": "code",
   "execution_count": 6,
   "metadata": {},
   "outputs": [],
   "source": [
    "def generate_data(source_dir, target_dir='data-512-with-flickr', crop_dimension=512, file_format='.jpg', verbose=False):\n",
    "    for camera_dir in os.listdir(source_dir):  # \n",
    "        full_camera_path = os.path.join(source_dir, camera_dir)  # e.g. data/train/HTC-1-M7\n",
    "        print('Parsing files in ', full_camera_path)\n",
    "        for filename in os.listdir(full_camera_path):\n",
    "            if verbose:\n",
    "                print('Processing file:', filename, '. Writing to: ', os.path.join(target_dir, '...', filename[:-4] + file_format))  # yeah this could be 2750 or 5377 lines of output\n",
    "            \n",
    "            must_process = False\n",
    "            for target in output_dir:\n",
    "                target_file = os.path.join(target_dir, target, camera_dir, filename[:-4] + file_format)\n",
    "                if not os.path.isfile(target_file):\n",
    "                    must_process = True\n",
    "            \n",
    "            if not must_process:\n",
    "                continue\n",
    "            img = cv2.imread(os.path.join(full_camera_path, filename))\n",
    "\n",
    "            # Compression & Crop is the only time we'll crop and then save\n",
    "            cropped = crop(img, crop_dimension)\n",
    "            if cropped.shape[0] != 512 and cropped.shape[1] != 512:\n",
    "                print('Invalid shape! Image: ', os.path.join(full_camera_path, filename))\n",
    "                continue\n",
    "                \n",
    "            target_file = os.path.join(target_dir, output_dir[0], camera_dir, filename[:-4] + file_format)\n",
    "            if not os.path.isfile(target_file):\n",
    "                cv2.imwrite(target_file, cropped)\n",
    "            target_file = os.path.join(target_dir, output_dir[1], camera_dir, filename[:-4] + file_format)\n",
    "            if not os.path.isfile(target_file):\n",
    "                cv2.imwrite(target_file, cropped, [int(cv2.IMWRITE_JPEG_QUALITY), 90])\n",
    "            target_file = os.path.join(target_dir, output_dir[2], camera_dir, filename[:-4] + file_format)\n",
    "            if not os.path.isfile(target_file):\n",
    "                cv2.imwrite(target_file, cropped, [int(cv2.IMWRITE_JPEG_QUALITY), 70])\n",
    "            \n",
    "            # Resize 0.5\n",
    "            target_file = os.path.join(target_dir, output_dir[3], camera_dir, filename[:-4] + file_format)\n",
    "            if not os.path.isfile(target_file):\n",
    "                cv2.imwrite(target_file,crop(imresize(img, 0.5, interp='bicubic')))\n",
    "            # Resize 0.8\n",
    "            target_file = os.path.join(target_dir, output_dir[4], camera_dir, filename[:-4] + file_format)\n",
    "            if not os.path.isfile(target_file):\n",
    "                cv2.imwrite(target_file,crop(imresize(img, 0.8, interp='bicubic')))\n",
    "            # Resize 1.5\n",
    "            target_file = os.path.join(target_dir, output_dir[5], camera_dir, filename[:-4] + file_format)\n",
    "            if not os.path.isfile(target_file):\n",
    "                cv2.imwrite(target_file,crop(imresize(img, 1.5, interp='bicubic')))\n",
    "            # Resize 2.0\n",
    "            target_file = os.path.join(target_dir, output_dir[6], camera_dir, filename[:-4] + file_format)\n",
    "            if not os.path.isfile(target_file):\n",
    "                cv2.imwrite(target_file,crop(imresize(img, 2.0, interp='bicubic')))\n",
    "            # Gamma Adjustment 0.8\n",
    "            target_file = os.path.join(target_dir, output_dir[7], camera_dir, filename[:-4] + file_format)\n",
    "            if not os.path.isfile(target_file):\n",
    "                cv2.imwrite(target_file,crop(adjust_gamma(img, gamma=0.8)))\n",
    "            # Gamma Adjustment 1.2\n",
    "            target_file = os.path.join(target_dir, output_dir[8], camera_dir, filename[:-4] + file_format)\n",
    "            if not os.path.isfile(target_file):\n",
    "                cv2.imwrite(target_file,crop(adjust_gamma(img, gamma=1.2)))\n"
   ]
  },
  {
   "cell_type": "code",
   "execution_count": 19,
   "metadata": {
    "scrolled": true
   },
   "outputs": [
    {
     "name": "stdout",
     "output_type": "stream",
     "text": [
      "Parsing files in  data/train/LG-Nexus-5x\n",
      "Parsing files in  data/train/Motorola-Droid-Maxx\n",
      "Parsing files in  data/train/iPhone-4s\n",
      "Parsing files in  data/train/iPhone-6\n",
      "Parsing files in  data/train/Sony-NEX-7\n",
      "Parsing files in  data/train/Motorola-Nexus-6\n",
      "Parsing files in  data/train/HTC-1-M7\n",
      "Parsing files in  data/train/Samsung-Galaxy-Note3\n",
      "Parsing files in  data/train/Motorola-X\n",
      "Parsing files in  data/train/Samsung-Galaxy-S4\n"
     ]
    }
   ],
   "source": [
    "generate_data(train_dir, verbose=False)"
   ]
  },
  {
   "cell_type": "code",
   "execution_count": 7,
   "metadata": {
    "scrolled": true
   },
   "outputs": [
    {
     "name": "stdout",
     "output_type": "stream",
     "text": [
      "Parsing files in  data/flickr_train/iPhone-4s\n",
      "Parsing files in  data/flickr_train/Motorola-Nexus-6\n",
      "Parsing files in  data/flickr_train/Samsung-Galaxy-S4\n",
      "Parsing files in  data/flickr_train/Motorola-Droid-Maxx\n",
      "Parsing files in  data/flickr_train/iPhone-6\n",
      "Parsing files in  data/flickr_train/LG-Nexus-5x\n",
      "Parsing files in  data/flickr_train/Motorola-X\n",
      "Parsing files in  data/flickr_train/HTC-1-M7\n",
      "Parsing files in  data/flickr_train/Samsung-Galaxy-Note3\n",
      "Parsing files in  data/flickr_train/Sony-NEX-7\n"
     ]
    },
    {
     "name": "stderr",
     "output_type": "stream",
     "text": [
      "/usr/local/lib/python3.5/dist-packages/ipykernel_launcher.py:36: DeprecationWarning: `imresize` is deprecated!\n",
      "`imresize` is deprecated in SciPy 1.0.0, and will be removed in 1.2.0.\n",
      "Use ``skimage.transform.resize`` instead.\n",
      "/usr/local/lib/python3.5/dist-packages/ipykernel_launcher.py:40: DeprecationWarning: `imresize` is deprecated!\n",
      "`imresize` is deprecated in SciPy 1.0.0, and will be removed in 1.2.0.\n",
      "Use ``skimage.transform.resize`` instead.\n",
      "/usr/local/lib/python3.5/dist-packages/ipykernel_launcher.py:44: DeprecationWarning: `imresize` is deprecated!\n",
      "`imresize` is deprecated in SciPy 1.0.0, and will be removed in 1.2.0.\n",
      "Use ``skimage.transform.resize`` instead.\n",
      "/usr/local/lib/python3.5/dist-packages/ipykernel_launcher.py:48: DeprecationWarning: `imresize` is deprecated!\n",
      "`imresize` is deprecated in SciPy 1.0.0, and will be removed in 1.2.0.\n",
      "Use ``skimage.transform.resize`` instead.\n"
     ]
    }
   ],
   "source": [
    "generate_data(flickr_train_dir, verbose=False)"
   ]
  },
  {
   "cell_type": "markdown",
   "metadata": {},
   "source": [
    "# Data Fix\n",
    "Previously, I ran the above code without a check for the dimensions of the cropped image, resulting in some images with shapes like (69, 6, 3). To find these, I did the following in bash in my data directory:  \n",
    "`exiftool -q -r -ext jpg -if '$ImageHeight != 512 || $ImageWidth != 512' -p '$Directory/$FileName' ./*`  \n",
    "I then removed each of the listed files"
   ]
  },
  {
   "cell_type": "markdown",
   "metadata": {},
   "source": [
    "# Create Validation Data\n",
    "It's great that I have training data, but I'll need validation data as well for convenience. I'll generate the validation data in the following way:  \n",
    "**Target Number of Samples:** 20%  \n",
    "First, create a directory structure that mirrors this structure:  \n",
    "- data-512-with-flickr\n",
    "- - train_cropped\n",
    "- - - HTC-1-M7\n",
    "- - - ...\n",
    "- - train_compressed_70\n",
    "- - - HTC-1-M7\n",
    "- - - ...\n",
    "- - train_resize_5\n",
    "- - ...  \n",
    "\n",
    "Next, step through `data-512-with-flickr` and for each camera in each manipulation, do the following:\n",
    "- Get a list of filenames in the directory\n",
    "- Shuffle the list of filenames\n",
    "- Select a subset of the list (e.g. `selected_files = filenames[:len(filenames]`)\n",
    "- For each file, copy it to the appropriate target directory\n"
   ]
  },
  {
   "cell_type": "code",
   "execution_count": 17,
   "metadata": {},
   "outputs": [],
   "source": [
    "\n",
    "source_dirs = os.listdir(target_dir)  # I know, looks weird, but remember we defined target_dir above as 'data-512-with-flickr'"
   ]
  },
  {
   "cell_type": "code",
   "execution_count": 21,
   "metadata": {},
   "outputs": [
    {
     "data": {
      "text/plain": [
       "'data/flickr-validation'"
      ]
     },
     "execution_count": 21,
     "metadata": {},
     "output_type": "execute_result"
    }
   ],
   "source": [
    "validation_dir"
   ]
  },
  {
   "cell_type": "code",
   "execution_count": 30,
   "metadata": {},
   "outputs": [
    {
     "name": "stdout",
     "output_type": "stream",
     "text": [
      "Working on  data-512-with-flickr/train_compressed_70/LG-Nexus-5x with 680 files. Creating 136 files in  data/flickr-validation/LG-Nexus-5x\n",
      "Working on  data-512-with-flickr/train_compressed_70/Motorola-Nexus-6 with 926 files. Creating 185 files in  data/flickr-validation/Motorola-Nexus-6\n",
      "Working on  data-512-with-flickr/train_compressed_70/iPhone-6 with 823 files. Creating 164 files in  data/flickr-validation/iPhone-6\n",
      "Working on  data-512-with-flickr/train_compressed_70/Motorola-Droid-Maxx with 825 files. Creating 165 files in  data/flickr-validation/Motorola-Droid-Maxx\n",
      "Working on  data-512-with-flickr/train_compressed_70/HTC-1-M7 with 1023 files. Creating 204 files in  data/flickr-validation/HTC-1-M7\n",
      "Working on  data-512-with-flickr/train_compressed_70/Sony-NEX-7 with 832 files. Creating 166 files in  data/flickr-validation/Sony-NEX-7\n",
      "Working on  data-512-with-flickr/train_compressed_70/iPhone-4s with 774 files. Creating 154 files in  data/flickr-validation/iPhone-4s\n",
      "Working on  data-512-with-flickr/train_compressed_70/Motorola-X with 275 files. Creating 55 files in  data/flickr-validation/Motorola-X\n",
      "Working on  data-512-with-flickr/train_compressed_70/Samsung-Galaxy-Note3 with 549 files. Creating 109 files in  data/flickr-validation/Samsung-Galaxy-Note3\n",
      "Working on  data-512-with-flickr/train_compressed_70/Samsung-Galaxy-S4 with 1412 files. Creating 282 files in  data/flickr-validation/Samsung-Galaxy-S4\n",
      "Working on  data-512-with-flickr/train_resize_15/LG-Nexus-5x with 680 files. Creating 136 files in  data/flickr-validation/LG-Nexus-5x\n",
      "Working on  data-512-with-flickr/train_resize_15/Samsung-Galaxy-S4 with 1412 files. Creating 282 files in  data/flickr-validation/Samsung-Galaxy-S4\n",
      "Working on  data-512-with-flickr/train_resize_15/Motorola-Droid-Maxx with 825 files. Creating 165 files in  data/flickr-validation/Motorola-Droid-Maxx\n",
      "Working on  data-512-with-flickr/train_resize_15/Motorola-Nexus-6 with 926 files. Creating 185 files in  data/flickr-validation/Motorola-Nexus-6\n",
      "Working on  data-512-with-flickr/train_resize_15/iPhone-4s with 779 files. Creating 155 files in  data/flickr-validation/iPhone-4s\n",
      "Working on  data-512-with-flickr/train_resize_15/Sony-NEX-7 with 832 files. Creating 166 files in  data/flickr-validation/Sony-NEX-7\n",
      "Working on  data-512-with-flickr/train_resize_15/Samsung-Galaxy-Note3 with 549 files. Creating 109 files in  data/flickr-validation/Samsung-Galaxy-Note3\n",
      "Working on  data-512-with-flickr/train_resize_15/HTC-1-M7 with 1024 files. Creating 204 files in  data/flickr-validation/HTC-1-M7\n",
      "Working on  data-512-with-flickr/train_resize_15/iPhone-6 with 825 files. Creating 165 files in  data/flickr-validation/iPhone-6\n",
      "Working on  data-512-with-flickr/train_resize_15/Motorola-X with 275 files. Creating 55 files in  data/flickr-validation/Motorola-X\n",
      "Working on  data-512-with-flickr/train_compressed_90/Sony-NEX-7 with 832 files. Creating 166 files in  data/flickr-validation/Sony-NEX-7\n",
      "Working on  data-512-with-flickr/train_compressed_90/LG-Nexus-5x with 680 files. Creating 136 files in  data/flickr-validation/LG-Nexus-5x\n",
      "Working on  data-512-with-flickr/train_compressed_90/Samsung-Galaxy-S4 with 1412 files. Creating 282 files in  data/flickr-validation/Samsung-Galaxy-S4\n",
      "Working on  data-512-with-flickr/train_compressed_90/Motorola-X with 275 files. Creating 55 files in  data/flickr-validation/Motorola-X\n",
      "Working on  data-512-with-flickr/train_compressed_90/Samsung-Galaxy-Note3 with 549 files. Creating 109 files in  data/flickr-validation/Samsung-Galaxy-Note3\n",
      "Working on  data-512-with-flickr/train_compressed_90/Motorola-Nexus-6 with 926 files. Creating 185 files in  data/flickr-validation/Motorola-Nexus-6\n",
      "Working on  data-512-with-flickr/train_compressed_90/Motorola-Droid-Maxx with 825 files. Creating 165 files in  data/flickr-validation/Motorola-Droid-Maxx\n",
      "Working on  data-512-with-flickr/train_compressed_90/iPhone-4s with 774 files. Creating 154 files in  data/flickr-validation/iPhone-4s\n",
      "Working on  data-512-with-flickr/train_compressed_90/HTC-1-M7 with 1023 files. Creating 204 files in  data/flickr-validation/HTC-1-M7\n",
      "Working on  data-512-with-flickr/train_compressed_90/iPhone-6 with 823 files. Creating 164 files in  data/flickr-validation/iPhone-6\n",
      "Working on  data-512-with-flickr/train_resize_20/Samsung-Galaxy-Note3 with 549 files. Creating 109 files in  data/flickr-validation/Samsung-Galaxy-Note3\n",
      "Working on  data-512-with-flickr/train_resize_20/Sony-NEX-7 with 832 files. Creating 166 files in  data/flickr-validation/Sony-NEX-7\n",
      "Working on  data-512-with-flickr/train_resize_20/Motorola-X with 275 files. Creating 55 files in  data/flickr-validation/Motorola-X\n",
      "Working on  data-512-with-flickr/train_resize_20/Samsung-Galaxy-S4 with 1412 files. Creating 282 files in  data/flickr-validation/Samsung-Galaxy-S4\n",
      "Working on  data-512-with-flickr/train_resize_20/LG-Nexus-5x with 680 files. Creating 136 files in  data/flickr-validation/LG-Nexus-5x\n",
      "Working on  data-512-with-flickr/train_resize_20/Motorola-Nexus-6 with 926 files. Creating 185 files in  data/flickr-validation/Motorola-Nexus-6\n",
      "Working on  data-512-with-flickr/train_resize_20/Motorola-Droid-Maxx with 825 files. Creating 165 files in  data/flickr-validation/Motorola-Droid-Maxx\n",
      "Working on  data-512-with-flickr/train_resize_20/HTC-1-M7 with 1024 files. Creating 204 files in  data/flickr-validation/HTC-1-M7\n",
      "Working on  data-512-with-flickr/train_resize_20/iPhone-6 with 825 files. Creating 165 files in  data/flickr-validation/iPhone-6\n",
      "Working on  data-512-with-flickr/train_resize_20/iPhone-4s with 779 files. Creating 155 files in  data/flickr-validation/iPhone-4s\n",
      "Working on  data-512-with-flickr/train_cropped/LG-Nexus-5x with 680 files. Creating 136 files in  data/flickr-validation/LG-Nexus-5x\n",
      "Working on  data-512-with-flickr/train_cropped/Samsung-Galaxy-Note3 with 549 files. Creating 109 files in  data/flickr-validation/Samsung-Galaxy-Note3\n",
      "Working on  data-512-with-flickr/train_cropped/Motorola-Nexus-6 with 926 files. Creating 185 files in  data/flickr-validation/Motorola-Nexus-6\n",
      "Working on  data-512-with-flickr/train_cropped/Motorola-X with 275 files. Creating 55 files in  data/flickr-validation/Motorola-X\n",
      "Working on  data-512-with-flickr/train_cropped/iPhone-6 with 823 files. Creating 164 files in  data/flickr-validation/iPhone-6\n",
      "Working on  data-512-with-flickr/train_cropped/HTC-1-M7 with 1023 files. Creating 204 files in  data/flickr-validation/HTC-1-M7\n",
      "Working on  data-512-with-flickr/train_cropped/Sony-NEX-7 with 832 files. Creating 166 files in  data/flickr-validation/Sony-NEX-7\n",
      "Working on  data-512-with-flickr/train_cropped/Samsung-Galaxy-S4 with 1412 files. Creating 282 files in  data/flickr-validation/Samsung-Galaxy-S4\n",
      "Working on  data-512-with-flickr/train_cropped/iPhone-4s with 774 files. Creating 154 files in  data/flickr-validation/iPhone-4s\n",
      "Working on  data-512-with-flickr/train_cropped/Motorola-Droid-Maxx with 825 files. Creating 165 files in  data/flickr-validation/Motorola-Droid-Maxx\n",
      "Working on  data-512-with-flickr/train_resize_5/Motorola-Nexus-6 with 926 files. Creating 185 files in  data/flickr-validation/Motorola-Nexus-6\n",
      "Working on  data-512-with-flickr/train_resize_5/HTC-1-M7 with 1023 files. Creating 204 files in  data/flickr-validation/HTC-1-M7\n",
      "Working on  data-512-with-flickr/train_resize_5/Samsung-Galaxy-Note3 with 549 files. Creating 109 files in  data/flickr-validation/Samsung-Galaxy-Note3\n",
      "Working on  data-512-with-flickr/train_resize_5/iPhone-6 with 823 files. Creating 164 files in  data/flickr-validation/iPhone-6\n",
      "Working on  data-512-with-flickr/train_resize_5/Motorola-Droid-Maxx with 825 files. Creating 165 files in  data/flickr-validation/Motorola-Droid-Maxx\n",
      "Working on  data-512-with-flickr/train_resize_5/Samsung-Galaxy-S4 with 1412 files. Creating 282 files in  data/flickr-validation/Samsung-Galaxy-S4\n",
      "Working on  data-512-with-flickr/train_resize_5/Motorola-X with 275 files. Creating 55 files in  data/flickr-validation/Motorola-X\n",
      "Working on  data-512-with-flickr/train_resize_5/iPhone-4s with 774 files. Creating 154 files in  data/flickr-validation/iPhone-4s\n",
      "Working on  data-512-with-flickr/train_resize_5/LG-Nexus-5x with 680 files. Creating 136 files in  data/flickr-validation/LG-Nexus-5x\n"
     ]
    },
    {
     "name": "stdout",
     "output_type": "stream",
     "text": [
      "Working on  data-512-with-flickr/train_resize_5/Sony-NEX-7 with 832 files. Creating 166 files in  data/flickr-validation/Sony-NEX-7\n",
      "Working on  data-512-with-flickr/train_gamma_12/Samsung-Galaxy-S4 with 1412 files. Creating 282 files in  data/flickr-validation/Samsung-Galaxy-S4\n",
      "Working on  data-512-with-flickr/train_gamma_12/Motorola-X with 275 files. Creating 55 files in  data/flickr-validation/Motorola-X\n",
      "Working on  data-512-with-flickr/train_gamma_12/Samsung-Galaxy-Note3 with 549 files. Creating 109 files in  data/flickr-validation/Samsung-Galaxy-Note3\n",
      "Working on  data-512-with-flickr/train_gamma_12/Motorola-Nexus-6 with 926 files. Creating 185 files in  data/flickr-validation/Motorola-Nexus-6\n",
      "Working on  data-512-with-flickr/train_gamma_12/Motorola-Droid-Maxx with 825 files. Creating 165 files in  data/flickr-validation/Motorola-Droid-Maxx\n",
      "Working on  data-512-with-flickr/train_gamma_12/Sony-NEX-7 with 832 files. Creating 166 files in  data/flickr-validation/Sony-NEX-7\n",
      "Working on  data-512-with-flickr/train_gamma_12/iPhone-6 with 823 files. Creating 164 files in  data/flickr-validation/iPhone-6\n",
      "Working on  data-512-with-flickr/train_gamma_12/HTC-1-M7 with 1023 files. Creating 204 files in  data/flickr-validation/HTC-1-M7\n",
      "Working on  data-512-with-flickr/train_gamma_12/LG-Nexus-5x with 680 files. Creating 136 files in  data/flickr-validation/LG-Nexus-5x\n",
      "Working on  data-512-with-flickr/train_gamma_12/iPhone-4s with 774 files. Creating 154 files in  data/flickr-validation/iPhone-4s\n",
      "Working on  data-512-with-flickr/train_gamma_8/Motorola-X with 275 files. Creating 55 files in  data/flickr-validation/Motorola-X\n",
      "Working on  data-512-with-flickr/train_gamma_8/Samsung-Galaxy-Note3 with 549 files. Creating 109 files in  data/flickr-validation/Samsung-Galaxy-Note3\n",
      "Working on  data-512-with-flickr/train_gamma_8/Sony-NEX-7 with 832 files. Creating 166 files in  data/flickr-validation/Sony-NEX-7\n",
      "Working on  data-512-with-flickr/train_gamma_8/HTC-1-M7 with 1023 files. Creating 204 files in  data/flickr-validation/HTC-1-M7\n",
      "Working on  data-512-with-flickr/train_gamma_8/iPhone-6 with 823 files. Creating 164 files in  data/flickr-validation/iPhone-6\n",
      "Working on  data-512-with-flickr/train_gamma_8/Samsung-Galaxy-S4 with 1412 files. Creating 282 files in  data/flickr-validation/Samsung-Galaxy-S4\n",
      "Working on  data-512-with-flickr/train_gamma_8/iPhone-4s with 774 files. Creating 154 files in  data/flickr-validation/iPhone-4s\n",
      "Working on  data-512-with-flickr/train_gamma_8/Motorola-Nexus-6 with 926 files. Creating 185 files in  data/flickr-validation/Motorola-Nexus-6\n",
      "Working on  data-512-with-flickr/train_gamma_8/LG-Nexus-5x with 680 files. Creating 136 files in  data/flickr-validation/LG-Nexus-5x\n",
      "Working on  data-512-with-flickr/train_gamma_8/Motorola-Droid-Maxx with 825 files. Creating 165 files in  data/flickr-validation/Motorola-Droid-Maxx\n",
      "Working on  data-512-with-flickr/train_resize_8/Sony-NEX-7 with 832 files. Creating 166 files in  data/flickr-validation/Sony-NEX-7\n",
      "Working on  data-512-with-flickr/train_resize_8/Samsung-Galaxy-S4 with 1412 files. Creating 282 files in  data/flickr-validation/Samsung-Galaxy-S4\n",
      "Working on  data-512-with-flickr/train_resize_8/HTC-1-M7 with 1023 files. Creating 204 files in  data/flickr-validation/HTC-1-M7\n",
      "Working on  data-512-with-flickr/train_resize_8/LG-Nexus-5x with 680 files. Creating 136 files in  data/flickr-validation/LG-Nexus-5x\n",
      "Working on  data-512-with-flickr/train_resize_8/iPhone-6 with 823 files. Creating 164 files in  data/flickr-validation/iPhone-6\n",
      "Working on  data-512-with-flickr/train_resize_8/iPhone-4s with 774 files. Creating 154 files in  data/flickr-validation/iPhone-4s\n",
      "Working on  data-512-with-flickr/train_resize_8/Motorola-Nexus-6 with 926 files. Creating 185 files in  data/flickr-validation/Motorola-Nexus-6\n",
      "Working on  data-512-with-flickr/train_resize_8/Motorola-X with 275 files. Creating 55 files in  data/flickr-validation/Motorola-X\n",
      "Working on  data-512-with-flickr/train_resize_8/Samsung-Galaxy-Note3 with 549 files. Creating 109 files in  data/flickr-validation/Samsung-Galaxy-Note3\n",
      "Working on  data-512-with-flickr/train_resize_8/Motorola-Droid-Maxx with 825 files. Creating 165 files in  data/flickr-validation/Motorola-Droid-Maxx\n"
     ]
    }
   ],
   "source": [
    "source_dir = target_dir\n",
    "for manip_dir in os.listdir(source_dir):\n",
    "    manip_path = os.path.join(source_dir, manip_dir)\n",
    "    for camera_dir in os.listdir(manip_path):\n",
    "        source_path = os.path.join(manip_path, camera_dir)\n",
    "        #source_path = os.path.join(source_dir, manip_dir, camera_dir)\n",
    "        output_path = os.path.join(validation_dir, camera_dir)  # No manipulation dir in validation\n",
    "        filenames = os.listdir(source_path)\n",
    "        np.random.shuffle(filenames)\n",
    "        number_of_samples = int(len(filenames) * 0.2)\n",
    "        print('Working on ', source_path, 'with', len(filenames), 'files. Creating', number_of_samples, 'files', 'in ', output_path)\n",
    "        # generate indices here\n",
    "        for filename in filenames[:number_of_samples]:\n",
    "            copyfile(\n",
    "                os.path.join(source_path, filename), \n",
    "                os.path.join(output_path, manip_dir + '-' + filename))"
   ]
  },
  {
   "cell_type": "code",
   "execution_count": null,
   "metadata": {},
   "outputs": [],
   "source": []
  }
 ],
 "metadata": {
  "kernelspec": {
   "display_name": "Python 3",
   "language": "python",
   "name": "python3"
  },
  "language_info": {
   "codemirror_mode": {
    "name": "ipython",
    "version": 3
   },
   "file_extension": ".py",
   "mimetype": "text/x-python",
   "name": "python",
   "nbconvert_exporter": "python",
   "pygments_lexer": "ipython3",
   "version": "3.5.2"
  }
 },
 "nbformat": 4,
 "nbformat_minor": 2
}
